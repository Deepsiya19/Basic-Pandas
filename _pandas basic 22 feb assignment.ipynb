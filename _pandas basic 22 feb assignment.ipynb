{
 "cells": [
  {
   "cell_type": "markdown",
   "id": "8aeb1ff7-1d4a-4f10-85d9-0e80e668e375",
   "metadata": {},
   "source": [
    "# 22 feb assignment"
   ]
  },
  {
   "cell_type": "markdown",
   "id": "4a50c8a8-ec02-4b4f-bde7-6fada9798a98",
   "metadata": {},
   "source": [
    "# Answer-1"
   ]
  },
  {
   "cell_type": "code",
   "execution_count": 1,
   "id": "35e92cfc-2fe3-4165-ab8f-0f496b0d46d1",
   "metadata": {},
   "outputs": [],
   "source": [
    "import pandas as pd"
   ]
  },
  {
   "cell_type": "code",
   "execution_count": 2,
   "id": "594100e6-7ede-4c77-b763-ede09fe8506a",
   "metadata": {},
   "outputs": [],
   "source": [
    "data=[4,8,15,16,23,42]"
   ]
  },
  {
   "cell_type": "code",
   "execution_count": 3,
   "id": "a5761525-00c5-4928-874f-1ba99536bb81",
   "metadata": {},
   "outputs": [],
   "source": [
    "d=pd.Series(data)"
   ]
  },
  {
   "cell_type": "code",
   "execution_count": 4,
   "id": "043e3751-d4dc-4173-9b62-38464c11da9b",
   "metadata": {},
   "outputs": [
    {
     "name": "stdout",
     "output_type": "stream",
     "text": [
      "0     4\n",
      "1     8\n",
      "2    15\n",
      "3    16\n",
      "4    23\n",
      "5    42\n",
      "dtype: int64\n"
     ]
    }
   ],
   "source": [
    "print(d)"
   ]
  },
  {
   "cell_type": "markdown",
   "id": "1cfa390c-adf8-4492-b526-f77026fe4246",
   "metadata": {},
   "source": [
    "# Answer-2"
   ]
  },
  {
   "cell_type": "code",
   "execution_count": 5,
   "id": "113f0e2d-0ef0-4a2e-8565-2266ce09c71f",
   "metadata": {},
   "outputs": [],
   "source": [
    "l=[1,2,3,4,5,6,7,8,9,10]"
   ]
  },
  {
   "cell_type": "code",
   "execution_count": 7,
   "id": "4cbbba79-346f-4fdb-8b3d-bd8e52ec9174",
   "metadata": {},
   "outputs": [],
   "source": [
    "import pandas"
   ]
  },
  {
   "cell_type": "code",
   "execution_count": 8,
   "id": "13c4446d-c038-4414-bf8e-d4753ba64ee1",
   "metadata": {},
   "outputs": [],
   "source": [
    "d=pandas.Series(l)"
   ]
  },
  {
   "cell_type": "code",
   "execution_count": 9,
   "id": "62e390d7-e4d0-4ab9-b08b-ac155eaad8c7",
   "metadata": {},
   "outputs": [
    {
     "name": "stdout",
     "output_type": "stream",
     "text": [
      "0     1\n",
      "1     2\n",
      "2     3\n",
      "3     4\n",
      "4     5\n",
      "5     6\n",
      "6     7\n",
      "7     8\n",
      "8     9\n",
      "9    10\n",
      "dtype: int64\n"
     ]
    }
   ],
   "source": [
    "print(d)"
   ]
  },
  {
   "cell_type": "markdown",
   "id": "60c08046-6c6f-418a-8caf-f94bbe86f4d0",
   "metadata": {},
   "source": [
    "# Answer-3"
   ]
  },
  {
   "cell_type": "code",
   "execution_count": 2,
   "id": "8dbb7e03-3bb8-4d30-bcdd-7428ffba5a2c",
   "metadata": {},
   "outputs": [],
   "source": [
    "import pandas as pd"
   ]
  },
  {
   "cell_type": "code",
   "execution_count": 3,
   "id": "c2fcaec0-8787-429b-a751-963f3928981e",
   "metadata": {},
   "outputs": [],
   "source": [
    "data={'Name':['Alice','Bob','Claire'],'Age':[25,30,27],'Gender':['Female','Male','Female']}"
   ]
  },
  {
   "cell_type": "code",
   "execution_count": 4,
   "id": "e6462433-0702-4881-8cf5-04babd911aa4",
   "metadata": {},
   "outputs": [],
   "source": [
    "d=pd.DataFrame(data,index=None)"
   ]
  },
  {
   "cell_type": "code",
   "execution_count": 5,
   "id": "b575db5d-95b9-420f-a152-fa9c9bd1dbd7",
   "metadata": {},
   "outputs": [
    {
     "name": "stdout",
     "output_type": "stream",
     "text": [
      "     Name  Age  Gender\n",
      "0   Alice   25  Female\n",
      "1     Bob   30    Male\n",
      "2  Claire   27  Female\n"
     ]
    }
   ],
   "source": [
    "print(d)"
   ]
  },
  {
   "cell_type": "markdown",
   "id": "c60fe8df-480d-465f-b37d-18333f1b8b76",
   "metadata": {},
   "source": [
    "# Answer-4"
   ]
  },
  {
   "cell_type": "code",
   "execution_count": 8,
   "id": "595f1493-f3a0-4146-9218-a14fde67f513",
   "metadata": {},
   "outputs": [
    {
     "name": "stdout",
     "output_type": "stream",
     "text": [
      "Created Series:\n",
      " one    [1, 2, 3, 4, 5, 6]\n",
      "dtype: object\n",
      "Created DataFrame:\n",
      "       a        b         c                 d\n",
      "0  This       is         a         DataFrame\n",
      "1    It  contain  multiple  rows and columns\n",
      "2    It       is       2-D    Data structure\n"
     ]
    }
   ],
   "source": [
    "# In pandas, a DataFrame is a two-dimensional size-mutable, potentially heterogeneous tabular data structure with labeled axes (rows and columns).\n",
    "# Arithmetic operations align on both row and column labels. It can be thought of as a dict-like container for Series objects1.\n",
    "\n",
    "# On the other hand, a Series in pandas is a one-dimensional labeled array capable of holding any data type (integers, strings, floating point numbers,\n",
    "# Python objects, etc.). The axis labels are collectively referred to as the index\n",
    "# example\n",
    "import pandas as pd\n",
    "\n",
    "# Create dictionary for Series\n",
    "d = { 'one' : [ 1, 2, 3, 4, 5, 6 ]}\n",
    "# Create series\n",
    "ser = pd.Series(d)\n",
    "print(\"Created Series:\\n\", ser)\n",
    "\n",
    "# Create dictionary for DataFrame\n",
    "d = { 'a' : [ 'This', 'It', 'It' ],\n",
    "      'b' : [ 'is', 'contain', 'is' ],\n",
    "      'c' : [ 'a', 'multiple', '2-D' ],\n",
    "      'd' : [ 'DataFrame', 'rows and columns', 'Data structure' ] \n",
    "    }\n",
    "# Create DataFrame\n",
    "df = pd.DataFrame(d)\n",
    "print(\"Created DataFrame:\\n\", df)"
   ]
  },
  {
   "cell_type": "markdown",
   "id": "2c32e369-db94-413a-9d5f-95bbbe177d34",
   "metadata": {},
   "source": [
    "# Answer-5"
   ]
  },
  {
   "cell_type": "code",
   "execution_count": 9,
   "id": "cafd8441-603b-4d19-b274-b6c03b711856",
   "metadata": {},
   "outputs": [
    {
     "name": "stdout",
     "output_type": "stream",
     "text": [
      "    Name   Age      City\n",
      "0   John  28.0  New York\n",
      "1   Anna  24.0     Paris\n",
      "2  Peter  35.0    Berlin\n",
      "(4, 3)\n",
      "             Age\n",
      "count   3.000000\n",
      "mean   29.000000\n",
      "std     5.567764\n",
      "min    24.000000\n",
      "25%    26.000000\n",
      "50%    28.000000\n",
      "75%    31.500000\n",
      "max    35.000000\n",
      "    Name   Age      City\n",
      "0   John  28.0  New York\n",
      "1   Anna  24.0     Paris\n",
      "2  Peter  35.0    Berlin\n",
      "    Name   Age      City       Job\n",
      "0   John  28.0  New York   Teacher\n",
      "1   Anna  24.0     Paris  Engineer\n",
      "2  Peter  35.0    Berlin    Doctor\n",
      "  Full Name   Age      City       Job\n",
      "0      John  28.0  New York   Teacher\n",
      "1      Anna  24.0     Paris  Engineer\n",
      "2     Peter  35.0    Berlin    Doctor\n",
      "  Full Name   Age      City       Job\n",
      "1      Anna  24.0     Paris  Engineer\n",
      "0      John  28.0  New York   Teacher\n",
      "2     Peter  35.0    Berlin    Doctor\n"
     ]
    }
   ],
   "source": [
    "#some common functions you can use to manipulate data in a Pandas DataFrame:\n",
    "\n",
    "# head(n): This function is used to get the first n rows of the DataFrame1.\n",
    "# shape: It returns the number of rows and columns in a DataFrame1.\n",
    "# describe(): This method provides a summary of statistics of a DataFrame1.\n",
    "# dropna(): It is used to drop the missing values (NaN) in a DataFrame1.\n",
    "# merge(): This function is used to merge two DataFrames based on a common column1.\n",
    "# rename(): It is used to rename the columns of a DataFrame1.\n",
    "# sort_values(): This method is used to sort the DataFrame\n",
    "# example\n",
    "import pandas as pd\n",
    "\n",
    "# Create a dictionary\n",
    "data = {\n",
    "    'Name': ['John', 'Anna', 'Peter', 'Linda'],\n",
    "    'Age': [28, 24, 35, None],\n",
    "    'City': ['New York', 'Paris', 'Berlin', 'London']\n",
    "}\n",
    "\n",
    "# Create DataFrame from dictionary\n",
    "df = pd.DataFrame(data)\n",
    "\n",
    "# Use head() function to get the first 3 rows\n",
    "print(df.head(3))\n",
    "\n",
    "# Use shape to get the number of rows and columns\n",
    "print(df.shape)\n",
    "\n",
    "# Use describe() to get summary statistics\n",
    "print(df.describe())\n",
    "\n",
    "# Use dropna() to drop rows with missing values\n",
    "df = df.dropna()\n",
    "print(df)\n",
    "\n",
    "# Create another DataFrame\n",
    "data2 = {\n",
    "    'Name': ['John', 'Anna', 'Peter', 'Linda'],\n",
    "    'Job': ['Teacher', 'Engineer', 'Doctor', 'Artist']\n",
    "}\n",
    "df2 = pd.DataFrame(data2)\n",
    "\n",
    "# Use merge() to merge df and df2\n",
    "merged_df = pd.merge(df, df2, on='Name')\n",
    "print(merged_df)\n",
    "\n",
    "# Use rename() to rename columns\n",
    "renamed_df = merged_df.rename(columns={'Name': 'Full Name'})\n",
    "print(renamed_df)\n",
    "\n",
    "# Use sort_values() to sort by Age\n",
    "sorted_df = renamed_df.sort_values(by=['Age'])\n",
    "print(sorted_df)\n"
   ]
  },
  {
   "cell_type": "markdown",
   "id": "1848de48-76c2-4006-95de-7743d8fa623c",
   "metadata": {},
   "source": [
    "# Answer-6"
   ]
  },
  {
   "cell_type": "code",
   "execution_count": 10,
   "id": "cc569cca-8912-4210-9c3a-4378912b9b2c",
   "metadata": {},
   "outputs": [],
   "source": [
    "# In pandas, both DataFrame and Panel are mutable in nature, meaning their data can be changed123.\n",
    "# However, a Series is size immutable,meaning its size cannot be changed13."
   ]
  },
  {
   "cell_type": "markdown",
   "id": "15fd1f9c-f9fa-4d26-a73a-152f6f1b6e16",
   "metadata": {},
   "source": [
    "# Answer-7"
   ]
  },
  {
   "cell_type": "code",
   "execution_count": 16,
   "id": "96d8928b-1faf-4383-bb8b-7d27e3087f50",
   "metadata": {},
   "outputs": [
    {
     "name": "stdout",
     "output_type": "stream",
     "text": [
      "   Numbers Letters\n",
      "0        1       a\n",
      "1        2       b\n",
      "2        3       c\n",
      "3        4       d\n",
      "4        5       e\n"
     ]
    }
   ],
   "source": [
    "import pandas as pd\n",
    "\n",
    "# Create Series\n",
    "s1 = pd.Series([1, 2, 3, 4, 5], name='Numbers')\n",
    "s2 = pd.Series(['a', 'b', 'c', 'd', 'e'], name='Letters')\n",
    "\n",
    "# Create DataFrame using multiple Series\n",
    "df = pd.concat([s1, s2],axis=1)\n",
    "\n",
    "print(df)"
   ]
  },
  {
   "cell_type": "code",
   "execution_count": null,
   "id": "32ec4e23-6980-412e-9f89-3104fed89a27",
   "metadata": {},
   "outputs": [],
   "source": []
  }
 ],
 "metadata": {
  "kernelspec": {
   "display_name": "Python 3 (ipykernel)",
   "language": "python",
   "name": "python3"
  },
  "language_info": {
   "codemirror_mode": {
    "name": "ipython",
    "version": 3
   },
   "file_extension": ".py",
   "mimetype": "text/x-python",
   "name": "python",
   "nbconvert_exporter": "python",
   "pygments_lexer": "ipython3",
   "version": "3.10.8"
  }
 },
 "nbformat": 4,
 "nbformat_minor": 5
}
